{
 "cells": [
  {
   "cell_type": "markdown",
   "metadata": {
    "collapsed": true,
    "pycharm": {
     "name": "#%% md\n"
    }
   },
   "source": [
    "# Домашнее задание №7: ДЗ7-бонусное\n",
    "\n",
    "##  Содержание <a name = 'outline'></a>\n",
    "\n",
    "* [Проведите анализ чувствительности, проверьте сходимость, измерьте тайминги, 25 баллов](#task_1)\n",
    "* [Ускорьте вычисления Python с использованием любой из имеющихся возможностей (PyBind11, ctypes, cython, numba), 25 баллов](#task_2)\n",
    "* [Попробуйте добавить параллелизм в вычисления, 25 баллов](#task_3)\n",
    "* Оформите и представьте результаты, 25 баллов"
   ]
  },
  {
   "cell_type": "markdown",
   "metadata": {
    "pycharm": {
     "name": "#%% md\n"
    }
   },
   "source": [
    "Зафиксируйте какую-либо многомерную скалярную функцию и реализуйте для неё анализ чувствительности по методу Соболя на Python с использованием библиотеки SALib."
   ]
  },
  {
   "cell_type": "code",
   "execution_count": 1,
   "metadata": {
    "pycharm": {
     "name": "#%%\n"
    }
   },
   "outputs": [],
   "source": [
    "import time\n",
    "import numpy as np\n",
    "from numba import njit, prange\n",
    "from SALib.sample import saltelli\n",
    "from SALib.analyze import sobol"
   ]
  },
  {
   "cell_type": "markdown",
   "metadata": {
    "pycharm": {
     "name": "#%% md\n"
    }
   },
   "source": [
    "#### Проведите анализ чувствительности, проверьте сходимость, измерьте тайминги, 25 баллов  <a name = \"task_1\"/>"
   ]
  },
  {
   "cell_type": "code",
   "execution_count": 8,
   "metadata": {
    "pycharm": {
     "name": "#%%\n"
    }
   },
   "outputs": [],
   "source": [
    "a = 2\n",
    "b = 0.7"
   ]
  },
  {
   "cell_type": "code",
   "execution_count": 9,
   "metadata": {
    "pycharm": {
     "name": "#%%\n"
    }
   },
   "outputs": [],
   "source": [
    "def evaluate_model(x):\n",
    "    return a * np.sin(x[2]) ** 2 * np.cos(x[2]) + b * np.sin(x[0])**3 * np.cos(x[1])**3"
   ]
  },
  {
   "cell_type": "code",
   "execution_count": 10,
   "metadata": {
    "pycharm": {
     "name": "#%%\n"
    }
   },
   "outputs": [],
   "source": [
    "problem = {\n",
    "    'num_vars' : 3,\n",
    "    'names' : ['x1', 'x2', 'x3'],\n",
    "    'bounds' : [[-6, 6],\n",
    "                [-6, 6],\n",
    "                [-6, 6]\n",
    "                ]\n",
    "}"
   ]
  },
  {
   "cell_type": "code",
   "execution_count": 11,
   "metadata": {
    "pycharm": {
     "name": "#%%\n"
    }
   },
   "outputs": [
    {
     "name": "stdout",
     "output_type": "stream",
     "text": [
      "samples generation took 5.383628845214844 seconds\n",
      "model evaluation took 6.311183214187622 seconds\n",
      "SA took 6.0586020946502686 seconds\n",
      "[ 1.06024034e-03 -4.35544182e-04  8.51405649e-01]\n",
      "[0.14813827 0.14709553 0.85139607]\n",
      "x1-x2: 0.14726423578047473\n",
      "x1-x3: -5.630460967198658e-05\n",
      "x2-x3: 0.0004021976428819629\n"
     ]
    }
   ],
   "source": [
    "n = 100000\n",
    "start = time.time()\n",
    "param_values = saltelli.sample(problem, n)\n",
    "print(\"samples generation took %s seconds\" %(time.time() - start))\n",
    "Y = np.zeros([param_values.shape[0]])\n",
    "\n",
    "start = time.time()\n",
    "for i, X in enumerate(param_values):\n",
    "    Y[i] = evaluate_model(X)\n",
    "\n",
    "print(\"model evaluation took %s seconds\" %(time.time() - start))\n",
    "\n",
    "start = time.time()\n",
    "Si = sobol.analyze(problem, Y)\n",
    "\n",
    "print(\"SA took %s seconds\" %(time.time() - start))\n",
    "print(Si['S1'])\n",
    "print(Si['ST'])\n",
    "print(\"x1-x2:\", Si['S2'][0,1])\n",
    "print(\"x1-x3:\", Si['S2'][0,2])\n",
    "print(\"x2-x3:\", Si['S2'][1,2])"
   ]
  },
  {
   "cell_type": "markdown",
   "metadata": {
    "pycharm": {
     "name": "#%% md\n"
    }
   },
   "source": [
    "#### Ускорьте вычисления Python с использованием любой из имеющихся возможностей (PyBind11, ctypes, cython, numba), 25 баллов  <a name = \"task_2\"/>"
   ]
  },
  {
   "cell_type": "code",
   "execution_count": 12,
   "metadata": {
    "pycharm": {
     "name": "#%%\n"
    }
   },
   "outputs": [],
   "source": [
    "@njit\n",
    "def opt_evaluate_model(x):\n",
    "    return a * np.sin(x[2]) ** 2 * np.cos(x[2]) + b * np.sin(x[0])**3 * np.cos(x[1])**3"
   ]
  },
  {
   "cell_type": "code",
   "execution_count": 13,
   "metadata": {
    "pycharm": {
     "name": "#%%\n"
    }
   },
   "outputs": [
    {
     "name": "stdout",
     "output_type": "stream",
     "text": [
      "samples generation took 5.350808143615723 seconds\n",
      "model evaluation took 0.6698927879333496 seconds\n",
      "SA took 5.232341051101685 seconds\n"
     ]
    }
   ],
   "source": [
    "n = 100000\n",
    "start = time.time()\n",
    "param_values = saltelli.sample(problem, n)\n",
    "print(\"samples generation took %s seconds\" %(time.time() - start))\n",
    "Y = np.zeros([param_values.shape[0]])\n",
    "\n",
    "start = time.time()\n",
    "for i, X in enumerate(param_values):\n",
    "    Y[i] = opt_evaluate_model(X)\n",
    "\n",
    "print(\"model evaluation took %s seconds\" %(time.time() - start))\n",
    "\n",
    "start = time.time()\n",
    "Si = sobol.analyze(problem, Y)\n",
    "\n",
    "print(\"SA took %s seconds\" %(time.time() - start))"
   ]
  },
  {
   "cell_type": "markdown",
   "metadata": {
    "pycharm": {
     "name": "#%% md\n"
    }
   },
   "source": [
    "#### Попробуйте добавить параллелизм в вычисления, 25 баллов  <a name = \"task_3\"/>"
   ]
  },
  {
   "cell_type": "code",
   "execution_count": 15,
   "metadata": {
    "pycharm": {
     "name": "#%%\n"
    }
   },
   "outputs": [
    {
     "name": "stderr",
     "output_type": "stream",
     "text": [
      "/Users/ponomarevandrew/opt/anaconda3/lib/python3.8/site-packages/SALib/sample/saltelli.py:94: UserWarning: \n",
      "        Convergence properties of the Sobol' sequence is only valid if\n",
      "        `N` (100000) is equal to `2^n`.\n",
      "        \n",
      "  warnings.warn(msg)\n"
     ]
    },
    {
     "name": "stdout",
     "output_type": "stream",
     "text": [
      "samples generation took 5.732519865036011 seconds\n",
      "model evaluation took 0.05318713188171387 seconds\n",
      "SA took 5.874913692474365 seconds\n"
     ]
    }
   ],
   "source": [
    "n = 100000\n",
    "start = time.time()\n",
    "param_values = saltelli.sample(problem, n)\n",
    "print(\"samples generation took %s seconds\" %(time.time() - start))\n",
    "Y = np.zeros([param_values.shape[0]])\n",
    "\n",
    "start = time.time()\n",
    "for i in prange(100000):\n",
    "    Y[i] = opt_evaluate_model(param_values[i])\n",
    "\n",
    "print(\"model evaluation took %s seconds\" %(time.time() - start))\n",
    "\n",
    "start = time.time()\n",
    "Si = sobol.analyze(problem, Y)\n",
    "\n",
    "print(\"SA took %s seconds\" %(time.time() - start))"
   ]
  },
  {
   "cell_type": "code",
   "execution_count": null,
   "metadata": {
    "pycharm": {
     "name": "#%%\n"
    }
   },
   "outputs": [],
   "source": []
  }
 ],
 "metadata": {
  "kernelspec": {
   "display_name": "Python 3",
   "language": "python",
   "name": "python3"
  },
  "language_info": {
   "codemirror_mode": {
    "name": "ipython",
    "version": 3
   },
   "file_extension": ".py",
   "mimetype": "text/x-python",
   "name": "python",
   "nbconvert_exporter": "python",
   "pygments_lexer": "ipython3",
   "version": "3.8.3"
  }
 },
 "nbformat": 4,
 "nbformat_minor": 1
}
